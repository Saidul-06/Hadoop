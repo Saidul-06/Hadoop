{
 "cells": [
  {
   "cell_type": "code",
   "execution_count": 5,
   "id": "6f1ed847",
   "metadata": {},
   "outputs": [],
   "source": [
    "import numpy as np\n",
    "import pandas as pd\n",
    "import matplotlib.pyplot as splt"
   ]
  },
  {
   "cell_type": "code",
   "execution_count": 6,
   "id": "015bc8d3",
   "metadata": {},
   "outputs": [],
   "source": [
    "df = pd.read_csv('fuel efficiency prediction.csv')"
   ]
  },
  {
   "cell_type": "code",
   "execution_count": 7,
   "id": "de564c14",
   "metadata": {},
   "outputs": [
    {
     "data": {
      "text/plain": [
       "<bound method NDFrame.head of       mpg  cylinders  displacement horsepower  weight  acceleration  \\\n",
       "0    18.0          8         307.0        130  3504.0          12.0   \n",
       "1    15.0          8         350.0        165  3693.0          11.5   \n",
       "2    18.0          8         318.0        150  3436.0          11.0   \n",
       "3    16.0          8         304.0        150  3433.0          12.0   \n",
       "4    17.0          8         302.0        140  3449.0          10.5   \n",
       "..    ...        ...           ...        ...     ...           ...   \n",
       "393  27.0          4         140.0         86  2790.0          15.6   \n",
       "394  44.0          4          97.0         52  2130.0          24.6   \n",
       "395  32.0          4         135.0         84  2295.0          11.6   \n",
       "396  28.0          4         120.0         79  2625.0          18.6   \n",
       "397  31.0          4         119.0         82  2720.0          19.4   \n",
       "\n",
       "     model year  origin                   car name  \n",
       "0            70     USA  chevrolet chevelle malibu  \n",
       "1            70     USA          buick skylark 320  \n",
       "2            70     USA         plymouth satellite  \n",
       "3            70     USA              amc rebel sst  \n",
       "4            70     USA                ford torino  \n",
       "..          ...     ...                        ...  \n",
       "393          82     USA            ford mustang gl  \n",
       "394          82  Europe                  vw pickup  \n",
       "395          82     USA              dodge rampage  \n",
       "396          82     USA                ford ranger  \n",
       "397          82     USA                 chevy s-10  \n",
       "\n",
       "[398 rows x 9 columns]>"
      ]
     },
     "execution_count": 7,
     "metadata": {},
     "output_type": "execute_result"
    }
   ],
   "source": [
    "confusion_matrix = metrics.confusion_matrix(actual, predicted)df.head"
   ]
  },
  {
   "cell_type": "code",
   "execution_count": 8,
   "id": "18a316ab",
   "metadata": {},
   "outputs": [],
   "source": [
    "actual = numpy.random.binomial(1,.9,size = 1000)\n",
    "predicted = numpy.random.binomial(1,.9,size = 1000)"
   ]
  },
  {
   "cell_type": "code",
   "execution_count": 9,
   "id": "05a50f5c",
   "metadata": {},
   "outputs": [],
   "source": [
    "confusion_matrix = metrics.confusion_matrix(actual, predicted)"
   ]
  },
  {
   "cell_type": "code",
   "execution_count": 10,
   "id": "f5041b54",
   "metadata": {},
   "outputs": [],
   "source": [
    "cm_display = metrics.ConfusionMatrixDisplay(confusion_matrix = confusion_matrix, display_labels = [False, True])"
   ]
  },
  {
   "cell_type": "code",
   "execution_count": 12,
   "id": "9079a17f",
   "metadata": {},
   "outputs": [
    {
     "data": {
      "image/png": "[encoded data removed]",
      "text/plain": [
       "<Figure size 640x480 with 2 Axes>"
      ]
     },
     "metadata": {},
     "output_type": "display_data"
    }
   ],
   "source": [
    "cm_display.plot()\n",
    "plt.show()"
   ]
  },
  {
   "cell_type": "code",
   "execution_count": 14,
   "id": "3e15d437",
   "metadata": {},
   "outputs": [],
   "source": [
    "Accuracy = metrics.accuracy_score(actual, predicted)"
   ]
  },
  {
   "cell_type": "code",
   "execution_count": 15,
   "id": "877b3f24",
   "metadata": {},
   "outputs": [],
   "source": [
    "Precision = metrics.precision_score(actual, predicted)"
   ]
  },
  {
   "cell_type": "code",
   "execution_count": 16,
   "id": "933dde6b",
   "metadata": {},
   "outputs": [],
   "source": [
    "Sensitivity_recall = metrics.recall_score(actual, predicted)"
   ]
  },
  {
   "cell_type": "code",
   "execution_count": 17,
   "id": "bc42a3c9",
   "metadata": {},
   "outputs": [],
   "source": [
    "Specificity = metrics.recall_score(actual, predicted, pos_label=0)"
   ]
  },
  {
   "cell_type": "code",
   "execution_count": 18,
   "id": "06d7f533",
   "metadata": {},
   "outputs": [],
   "source": [
    "F1_score = metrics.f1_score(actual, predicted)"
   ]
  },
  {
   "cell_type": "code",
   "execution_count": 19,
   "id": "ad0a0a33",
   "metadata": {},
   "outputs": [
    {
     "name": "stdout",
     "output_type": "stream",
     "text": [
      "{'Accuracy': 0.81, 'Precision': 0.9116647791619479, 'Sensitivity_recall': 0.8778625954198473, 'Specificity': 0.060240963855421686, 'F1_score': 0.8944444444444445}\n"
     ]
    }
   ],
   "source": [
    "print({\"Accuracy\":Accuracy,\"Precision\":Precision,\"Sensitivity_recall\":Sensitivity_recall,\"Specificity\":Specificity,\"F1_score\":F1_score})"
   ]
  },
  {
   "cell_type": "code",
   "execution_count": null,
   "id": "22470899",
   "metadata": {},
   "outputs": [],
   "source": []
  }
 ],
 "metadata": {
  "kernelspec": {
   "display_name": "Python 3 (ipykernel)",
   "language": "python",
   "name": "python3"
  },
  "language_info": {
   "codemirror_mode": {
    "name": "ipython",
    "version": 3
   },
   "file_extension": ".py",
   "mimetype": "text/x-python",
   "name": "python",
   "nbconvert_exporter": "python",
   "pygments_lexer": "ipython3",
   "version": "3.9.13"
  }
 },
 "nbformat": 4,
 "nbformat_minor": 5
}
