{
 "cells": [
  {
   "cell_type": "code",
   "execution_count": 8,
   "id": "9527dc16",
   "metadata": {},
   "outputs": [],
   "source": [
    "import numpy as np\n",
    "import pandas as pd\n",
    "import matplotlib.pyplot as splt\n"
   ]
  },
  {
   "cell_type": "code",
   "execution_count": 9,
   "id": "c6c7fe63",
   "metadata": {},
   "outputs": [],
   "source": [
    "df = pd.read_csv('fuel efficiency prediction.csv')"
   ]
  },
  {
   "cell_type": "code",
   "execution_count": 12,
   "id": "61ecea17",
   "metadata": {},
   "outputs": [
    {
     "data": {
      "text/plain": [
       "<bound method NDFrame.head of       CustomerID  Gender           Age         Food         Income  \\\n",
       "0              1    Male  1.900000e+01  2.540000e+01  1.500000e+01   \n",
       "1              2    Male  2.100000e+01  2.760000e+01  1.500000e+01   \n",
       "2              3  Female  2.000000e+01  2.680000e+01  1.600000e+01   \n",
       "3              4  Female  2.300000e+01  3.010000e+01  1.600000e+01   \n",
       "4              5  Female  3.100000e+01  3.920000e+01  1.700000e+01   \n",
       "...          ...     ...           ...           ...           ...   \n",
       "2084        2085    Male  5.920000e+06  1.345600e+07  2.320000e+07   \n",
       "2085        2086    Male  1.184000e+08  2.691200e+08  4.640000e+08   \n",
       "2086        2087    Male  2.368000e+09  5.382400e+09  9.280000e+09   \n",
       "2087        2088    Male  4.736000e+10  1.076480e+11  1.856000e+11   \n",
       "2088        2089    Male  9.472000e+11  2.152960e+12  3.712000e+12   \n",
       "\n",
       "         Education  Entartainment        Others  \n",
       "0     2.990000e+01   5.530000e+01  3.900000e+01  \n",
       "1     3.210000e+01   5.970000e+01  8.100000e+01  \n",
       "2     3.160000e+01            NaN  6.000000e+00  \n",
       "3     3.490000e+01   6.500000e+01  7.700000e+01  \n",
       "4     4.430000e+01   8.350000e+01  4.000000e+01  \n",
       "...            ...            ...           ...  \n",
       "2084  1.907200e+07   3.140800e+07  1.344000e+07  \n",
       "2085  3.814400e+08   6.281600e+08  2.688000e+08  \n",
       "2086  7.628800e+09   1.256320e+10  5.376000e+09  \n",
       "2087  1.525760e+11   2.512640e+11  1.075200e+11  \n",
       "2088  3.051520e+12   5.025280e+12  2.150400e+12  \n",
       "\n",
       "[2089 rows x 8 columns]>"
      ]
     },
     "execution_count": 12,
     "metadata": {},
     "output_type": "execute_result"
    }
   ],
   "source": [
    "df.head"
   ]
  },
  {
   "cell_type": "code",
   "execution_count": 4,
   "id": "2ca18ac4",
   "metadata": {},
   "outputs": [
    {
     "data": {
      "text/plain": [
       "(2089, 8)"
      ]
     },
     "execution_count": 4,
     "metadata": {},
     "output_type": "execute_result"
    }
   ],
   "source": [
    "df.shape"
   ]
  },
  {
   "cell_type": "code",
   "execution_count": 5,
   "id": "7aef5751",
   "metadata": {},
   "outputs": [
    {
     "data": {
      "text/plain": [
       "CustomerID       0\n",
       "Gender           0\n",
       "Age              2\n",
       "Food             4\n",
       "Income           2\n",
       "Education        2\n",
       "Entartainment    5\n",
       "Others           3\n",
       "dtype: int64"
      ]
     },
     "execution_count": 5,
     "metadata": {},
     "output_type": "execute_result"
    }
   ],
   "source": [
    "df.isnull().sum()"
   ]
  },
  {
   "cell_type": "code",
   "execution_count": 6,
   "id": "08dbd116",
   "metadata": {},
   "outputs": [],
   "source": [
    "missingAge = df.Age.mean()"
   ]
  },
  {
   "cell_type": "code",
   "execution_count": 7,
   "id": "68fd7af1",
   "metadata": {},
   "outputs": [
    {
     "data": {
      "text/plain": [
       "477744469.9813129"
      ]
     },
     "execution_count": 7,
     "metadata": {},
     "output_type": "execute_result"
    }
   ],
   "source": [
    "missingAge"
   ]
  },
  {
   "cell_type": "code",
   "execution_count": 8,
   "id": "8ae1748a",
   "metadata": {},
   "outputs": [],
   "source": [
    "df.Age=df.Age.fillna(missingAge)"
   ]
  },
  {
   "cell_type": "code",
   "execution_count": 9,
   "id": "6319a096",
   "metadata": {},
   "outputs": [
    {
     "ename": "AttributeError",
     "evalue": "'DataFrame' object has no attribute 'Food'",
     "output_type": "error",
     "traceback": [
      "\u001b[1;31m---------------------------------------------------------------------------\u001b[0m",
      "\u001b[1;31mAttributeError\u001b[0m                            Traceback (most recent call last)",
      "\u001b[1;32m~\\AppData\\Local\\Temp\\ipykernel_6992\\1897380302.py\u001b[0m in \u001b[0;36m<module>\u001b[1;34m\u001b[0m\n\u001b[1;32m----> 1\u001b[1;33m \u001b[0mmissingFood\u001b[0m \u001b[1;33m=\u001b[0m \u001b[0mdf\u001b[0m\u001b[1;33m.\u001b[0m\u001b[0mFood\u001b[0m\u001b[1;33m.\u001b[0m\u001b[0mmean\u001b[0m\u001b[1;33m(\u001b[0m\u001b[1;33m)\u001b[0m\u001b[1;33m\u001b[0m\u001b[1;33m\u001b[0m\u001b[0m\n\u001b[0m\u001b[0;32m      2\u001b[0m \u001b[0mmissingFood\u001b[0m\u001b[1;33m\u001b[0m\u001b[1;33m\u001b[0m\u001b[0m\n\u001b[0;32m      3\u001b[0m \u001b[0mdf\u001b[0m\u001b[1;33m.\u001b[0m\u001b[0mFood\u001b[0m\u001b[1;33m=\u001b[0m\u001b[0mdf\u001b[0m\u001b[1;33m.\u001b[0m\u001b[0mFood\u001b[0m\u001b[1;33m.\u001b[0m\u001b[0mfillna\u001b[0m\u001b[1;33m(\u001b[0m\u001b[0mmissingFood\u001b[0m\u001b[1;33m)\u001b[0m\u001b[1;33m\u001b[0m\u001b[1;33m\u001b[0m\u001b[0m\n",
      "\u001b[1;32m~\\anaconda3\\lib\\site-packages\\pandas\\core\\generic.py\u001b[0m in \u001b[0;36m__getattr__\u001b[1;34m(self, name)\u001b[0m\n\u001b[0;32m   5573\u001b[0m         ):\n\u001b[0;32m   5574\u001b[0m             \u001b[1;32mreturn\u001b[0m \u001b[0mself\u001b[0m\u001b[1;33m[\u001b[0m\u001b[0mname\u001b[0m\u001b[1;33m]\u001b[0m\u001b[1;33m\u001b[0m\u001b[1;33m\u001b[0m\u001b[0m\n\u001b[1;32m-> 5575\u001b[1;33m         \u001b[1;32mreturn\u001b[0m \u001b[0mobject\u001b[0m\u001b[1;33m.\u001b[0m\u001b[0m__getattribute__\u001b[0m\u001b[1;33m(\u001b[0m\u001b[0mself\u001b[0m\u001b[1;33m,\u001b[0m \u001b[0mname\u001b[0m\u001b[1;33m)\u001b[0m\u001b[1;33m\u001b[0m\u001b[1;33m\u001b[0m\u001b[0m\n\u001b[0m\u001b[0;32m   5576\u001b[0m \u001b[1;33m\u001b[0m\u001b[0m\n\u001b[0;32m   5577\u001b[0m     \u001b[1;32mdef\u001b[0m \u001b[0m__setattr__\u001b[0m\u001b[1;33m(\u001b[0m\u001b[0mself\u001b[0m\u001b[1;33m,\u001b[0m \u001b[0mname\u001b[0m\u001b[1;33m:\u001b[0m \u001b[0mstr\u001b[0m\u001b[1;33m,\u001b[0m \u001b[0mvalue\u001b[0m\u001b[1;33m)\u001b[0m \u001b[1;33m->\u001b[0m \u001b[1;32mNone\u001b[0m\u001b[1;33m:\u001b[0m\u001b[1;33m\u001b[0m\u001b[1;33m\u001b[0m\u001b[0m\n",
      "\u001b[1;31mAttributeError\u001b[0m: 'DataFrame' object has no attribute 'Food'"
     ]
    }
   ],
   "source": [
    "missingFood = df.Food.mean()\n",
    "missingFood\n",
    "df.Food=df.Food.fillna(missingFood)"
   ]
  },
  {
   "cell_type": "code",
   "execution_count": null,
   "id": "3b2824af",
   "metadata": {},
   "outputs": [],
   "source": [
    "missingIncome = df.Income.mean()\n",
    "missingIncome\n",
    "df.Income=df.Income.fillna(missingIncome)"
   ]
  },
  {
   "cell_type": "code",
   "execution_count": null,
   "id": "bac79838",
   "metadata": {},
   "outputs": [],
   "source": [
    "missingEducation = df.Education.mean()\n",
    "missingEducation\n",
    "df.Education=df.Education.fillna(missingEducation)"
   ]
  },
  {
   "cell_type": "code",
   "execution_count": null,
   "id": "a98f73b2",
   "metadata": {},
   "outputs": [],
   "source": [
    "missingEntartainment = df.Entartainment.mean()\n",
    "missingEntartainment\n",
    "df.Entartainment=df.Entartainment.fillna(missingEntartainment)"
   ]
  },
  {
   "cell_type": "code",
   "execution_count": null,
   "id": "6a39a5de",
   "metadata": {},
   "outputs": [],
   "source": [
    "missingOthers = df.Others.mean()\n",
    "missingOthers\n",
    "df.Others=df.Others.fillna(missingOthers)"
   ]
  },
  {
   "cell_type": "code",
   "execution_count": 10,
   "id": "4f62e2c2",
   "metadata": {},
   "outputs": [
    {
     "data": {
      "text/plain": [
       "CustomerID       0\n",
       "Gender           0\n",
       "Age              0\n",
       "Food             4\n",
       "Income           2\n",
       "Education        2\n",
       "Entartainment    5\n",
       "Others           3\n",
       "dtype: int64"
      ]
     },
     "execution_count": 10,
     "metadata": {},
     "output_type": "execute_result"
    }
   ],
   "source": [
    "df.isnull().sum()"
   ]
  },
  {
   "cell_type": "code",
   "execution_count": null,
   "id": "cacfd2ef",
   "metadata": {},
   "outputs": [],
   "source": []
  }
 ],
 "metadata": {
  "kernelspec": {
   "display_name": "Python 3 (ipykernel)",
   "language": "python",
   "name": "python3"
  },
  "language_info": {
   "codemirror_mode": {
    "name": "ipython",
    "version": 3
   },
   "file_extension": ".py",
   "mimetype": "text/x-python",
   "name": "python",
   "nbconvert_exporter": "python",
   "pygments_lexer": "ipython3",
   "version": "3.9.13"
  }
 },
 "nbformat": 4,
 "nbformat_minor": 5
}
